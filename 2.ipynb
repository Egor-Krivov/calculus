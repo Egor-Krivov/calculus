{
 "metadata": {
  "name": "",
  "signature": "sha256:84cfed81a3f9712bada41978f6ec5b5674bd0adb573539ebeb0d345913d88918"
 },
 "nbformat": 3,
 "nbformat_minor": 0,
 "worksheets": [
  {
   "cells": [
    {
     "cell_type": "code",
     "collapsed": false,
     "input": [
      "import matplotlib.pyplot as pl\n",
      "import numpy as np\n",
      "import scipy.optimize as opt"
     ],
     "language": "python",
     "metadata": {},
     "outputs": [],
     "prompt_number": 11
    },
    {
     "cell_type": "code",
     "collapsed": false,
     "input": [
      "lim = (0.0, 20.0)\n",
      "N = 20000\n",
      "tau = (lim[1] - lim[0]) / N\n",
      "t = np.linspace(lim[0], lim[1], N+1)"
     ],
     "language": "python",
     "metadata": {},
     "outputs": [],
     "prompt_number": 12
    },
    {
     "cell_type": "code",
     "collapsed": false,
     "input": [
      "t[1000]"
     ],
     "language": "python",
     "metadata": {},
     "outputs": [
      {
       "metadata": {},
       "output_type": "pyout",
       "prompt_number": 13,
       "text": [
        "1.0"
       ]
      }
     ],
     "prompt_number": 13
    },
    {
     "cell_type": "code",
     "collapsed": false,
     "input": [
      "def F(y: np.array, b=0.1, a=106.0, c=0.9) -> np.array:\n",
      "    y1 = a * (-(y[0] ** 3)/3 + y[0] + y[1])\n",
      "    y2 = -y[0] - b * y[1] + c\n",
      "    return np.array([y1, y2])"
     ],
     "language": "python",
     "metadata": {},
     "outputs": [],
     "prompt_number": 14
    },
    {
     "cell_type": "code",
     "collapsed": false,
     "input": [
      "def make_f(y, tau):\n",
      "    def f(x):\n",
      "        return tau * F(x) + y - x\n",
      "    return f"
     ],
     "language": "python",
     "metadata": {},
     "outputs": [],
     "prompt_number": 15
    },
    {
     "cell_type": "code",
     "collapsed": false,
     "input": [
      "y = np.zeros((N + 1, 2), dtype=float)\n",
      "y[0] = np.array([2.0, 0.0])\n",
      "for i in range(N):\n",
      "    f = make_f(y[i], tau)\n",
      "    y[i + 1] = opt.root(f, y[i]).x"
     ],
     "language": "python",
     "metadata": {},
     "outputs": [],
     "prompt_number": 16
    },
    {
     "cell_type": "code",
     "collapsed": false,
     "input": [
      "%matplotlib inline\n",
      "pl.plot(y[:,0], y[:,1])\n",
      "\n",
      "y1 = np.linspace(-2.1, 2.1, 1000)\n",
      "y2_f = lambda x: x ** 3 / 3 - x\n",
      "pl.plot(y1, y2_f(y1))\n",
      "\n",
      "pl.show()"
     ],
     "language": "python",
     "metadata": {},
     "outputs": [
      {
       "metadata": {},
       "output_type": "display_data",
       "png": "[encoded data removed]",
       "text": [
        "<matplotlib.figure.Figure at 0x7f6b1976f160>"
       ]
      }
     ],
     "prompt_number": 17
    },
    {
     "cell_type": "code",
     "collapsed": false,
     "input": [
      "import matplotlib.pyplot as pl\n",
      "import numpy as np\n",
      "import scipy.optimize as opt\n",
      "\n",
      "lim = (0.0, 5.0)\n",
      "N = 20000\n",
      "tau = (lim[1] - lim[0]) / N\n",
      "t = np.linspace(lim[0], lim[1], N+1)\n",
      "\n",
      "def F(y: np.array, b=.1, a=106.0, c=0.9) -> np.array:\n",
      "    y1 = a * (-(y[0] ** 3)/3 + y[0] + y[1])\n",
      "    y2 = -y[0] - b * y[1] + c\n",
      "    return np.array([y1, y2])\n",
      "\n",
      "def next_y(t, y, tau):\n",
      "    k1 = tau * F(y)\n",
      "    k2 = tau * F(y + 0.5 * k1)\n",
      "    k3 = tau * F(y + 0.5 * k2)\n",
      "    k4 = tau * F(y + k3)\n",
      "    return y + (k1 + 2 * k2 + 2 * k3 + k4)/6\n",
      "\n",
      "y = np.zeros((N + 1, 2), dtype=float)\n",
      "y[0] = np.array([2.0, 0.0])\n",
      "for i in range(N):\n",
      "    y[i + 1] = next_y(lim[0] + i * tau, y[i], tau)\n",
      "\n",
      "%matplotlib inline\n",
      "pl.plot(y[:,0], y[:,1])\n",
      "\n",
      "y1 = np.linspace(-2.1, 2.1, 1000)\n",
      "y2_f = lambda x: x ** 3 / 3 - x\n",
      "pl.plot(y1, y2_f(y1))\n",
      "\n",
      "pl.show()\n",
      "\n",
      "\n",
      "pl.show()"
     ],
     "language": "python",
     "metadata": {},
     "outputs": [
      {
       "metadata": {},
       "output_type": "display_data",
       "png": "[encoded data removed]",
       "text": [
        "<matplotlib.figure.Figure at 0x7f5d28711da0>"
       ]
      }
     ],
     "prompt_number": 1
    },
    {
     "cell_type": "code",
     "collapsed": false,
     "input": [],
     "language": "python",
     "metadata": {},
     "outputs": []
    }
   ],
   "metadata": {}
  }
 ]
}