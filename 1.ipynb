{
 "metadata": {
  "name": "",
  "signature": "sha256:065fc68dbde316b85823bfb8967db38148a42d9bdf9545c28017682887709c11"
 },
 "nbformat": 3,
 "nbformat_minor": 0,
 "worksheets": [
  {
   "cells": [
    {
     "cell_type": "markdown",
     "metadata": {},
     "source": [
      "\u041a\u0440\u0430\u0435\u0432\u0430\u044f \u0437\u0430\u0434\u0430\u0447\u0430: $$y''(x)+y'(x)-y(x)/x= {(x+1) \\over x},\\ 0.5\\leq x\\leq1,\\ y'(0.5)=-ln2,\\ y(1)=-1$$\n",
      "\u0417\u0430\u043c\u0435\u043d\u043e\u0439 $$u_1 = y, u_2 = y'$$\n",
      "\u0421\u0432\u043e\u0434\u0438\u0442\u0441\u044f \u043a \u0437\u0430\u0434\u0430\u0447\u0435 $$\\begin{cases} u_1'=u_2 \\\\ u_2'=u_1/x-u_2+1+1/x \\\\ u_1(1) = -1 \\\\ u_2(1/2)=-ln(2) \\end{cases}$$"
     ]
    },
    {
     "cell_type": "code",
     "collapsed": false,
     "input": [
      "import scipy.optimize as opt\n",
      "import numpy as np\n",
      "import math\n",
      "import matplotlib.pyplot as pl"
     ],
     "language": "python",
     "metadata": {},
     "outputs": [],
     "prompt_number": 114
    },
    {
     "cell_type": "markdown",
     "metadata": {},
     "source": [
      "$$f(x, u_1, u_2) = \\begin{bmatrix}\n",
      "       u_2  \\\\[0.3em]\n",
      "       {u_1 \\over x} - u_2 + 1 + {1 \\over x}\n",
      "     \\end{bmatrix}$$"
     ]
    },
    {
     "cell_type": "code",
     "collapsed": true,
     "input": [
      "def f(x, u):\n",
      "    result = np.empty(2)\n",
      "    result[0] = u[1]\n",
      "    result[1] = u[0] / x - u[1] + 1 + 1 / x\n",
      "    return result"
     ],
     "language": "python",
     "metadata": {},
     "outputs": [],
     "prompt_number": 67
    },
    {
     "cell_type": "markdown",
     "metadata": {},
     "source": [
      "$$\\mathbf{u}_{n+1}=\\tau * f(x_n,\\mathbf{u}_n) + \\mathbf{u}_n$$"
     ]
    },
    {
     "cell_type": "code",
     "collapsed": true,
     "input": [
      "def solveCauchy(f, u0, N, limits = (1/2, 1)):\n",
      "    tau = (limits[1] - limits[0]) / N\n",
      "    x = np.linspace(limits[0], limits[1], N + 1)\n",
      "    u = np.empty((N + 1, 2))\n",
      "    u[0] = np.array(u0)\n",
      "    for i in range(N):\n",
      "        u[i + 1] = u[i] + f(x[i], u[i]) * tau\n",
      "    return u"
     ],
     "language": "python",
     "metadata": {},
     "outputs": [],
     "prompt_number": 88
    },
    {
     "cell_type": "markdown",
     "metadata": {},
     "source": [
      "\u0424\u0443\u043d\u043a\u0446\u0438\u044f \u0440\u0435\u0448\u0430\u0435\u0442 \u0443\u0440\u0430\u0432\u043d\u0435\u043d\u0438\u0435\n",
      "$$\\begin{cases} u_1'=u_2 \\\\ u_2'=u_1/x-u_2+1+1/x \\\\ u_1(1/2) = \\alpha \\\\ u_2(1/2)=-ln(2) \\end{cases}$$\n",
      "\u0438 \u0441\u0447\u0438\u0442\u0430\u0435\u0442 \u0437\u043d\u0430\u0447\u0435\u043d\u0438\u0435 $$F(\\alpha) = u_1(1) + 1$$"
     ]
    },
    {
     "cell_type": "code",
     "collapsed": false,
     "input": [
      "import math\n",
      "def F(alpha, N = 100):\n",
      "    return solveCauchy(f, (alpha, -math.log(2)), N)[N][0] + 1"
     ],
     "language": "python",
     "metadata": {},
     "outputs": [],
     "prompt_number": 108
    },
    {
     "cell_type": "markdown",
     "metadata": {},
     "source": [
      "\u0424\u0443\u043d\u043a\u0446\u0438\u044f \u0440\u0435\u0448\u0430\u0435\u0442 \u0443\u0440\u0430\u0432\u043d\u0435\u043d\u0438\u0435 $$F(\\alpha)=0$$ \u043c\u0435\u0442\u043e\u0434\u043e\u043c \u041d\u044c\u044e\u0442\u043e\u043d\u0430"
     ]
    },
    {
     "cell_type": "code",
     "collapsed": false,
     "input": [
      "%matplotlib inline\n",
      "N = 100\n",
      "alpha = opt.newton(F, 1)\n",
      "print('F(alpha) = ', F(alpha))\n",
      "\n",
      "\n",
      "limits = (1/2, 1)\n",
      "x = np.linspace(limits[0], limits[1], N + 1)\n",
      "y = solveCauchy(f, (alpha, -math.log(2)), N)[:,0]\n",
      "pl.plot(x, y)\n",
      "pl.show()"
     ],
     "language": "python",
     "metadata": {},
     "outputs": [
      {
       "output_type": "stream",
       "stream": "stdout",
       "text": [
        "F(alpha) =  6.66133814775e-16\n"
       ]
      },
      {
       "metadata": {},
       "output_type": "display_data",
       "png": "[encoded data removed]",
       "text": [
        "<matplotlib.figure.Figure at 0x7fdde50ebc50>"
       ]
      }
     ],
     "prompt_number": 125
    }
   ],
   "metadata": {}
  }
 ]
}